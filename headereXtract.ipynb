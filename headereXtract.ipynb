{
 "cells": [
  {
   "cell_type": "code",
   "execution_count": 1,
   "metadata": {},
   "outputs": [],
   "source": [
    "from operator import itemgetter\n",
    "import fitz\n",
    "import json"
   ]
  },
  {
   "cell_type": "code",
   "execution_count": 2,
   "metadata": {},
   "outputs": [],
   "source": [
    "def fonts(doc, granularity=False):\n",
    "    \"\"\"Extracts fonts and their usage in PDF documents.\n",
    "    :param doc: PDF document to iterate through\n",
    "    :type doc: <class 'fitz.fitz.Document'>\n",
    "    :param granularity: also use 'font', 'flags' and 'color' to discriminate text\n",
    "    :type granularity: bool\n",
    "    :rtype: [(font_size, count), (font_size, count}], dict\n",
    "    :return: most used fonts sorted by count, font style information\n",
    "    \"\"\"\n",
    "    styles = {}\n",
    "    font_counts = {}\n",
    "\n",
    "    for page in doc:\n",
    "        blocks = page.getText(\"dict\")[\"blocks\"]\n",
    "        for b in blocks:  # iterate through the text blocks\n",
    "            if b['type'] == 0:  # block contains text\n",
    "                for l in b[\"lines\"]:  # iterate through the text lines\n",
    "                    for s in l[\"spans\"]:  # iterate through the text spans\n",
    "                        if granularity:\n",
    "                            identifier = \"{0}_{1}_{2}_{3}\".format(s['size'], s['flags'], s['font'], s['color'])\n",
    "                            styles[identifier] = {'size': s['size'], 'flags': s['flags'], 'font': s['font'],\n",
    "                                                  'color': s['color']}\n",
    "                        else:\n",
    "                            identifier = \"{0}\".format(s['size'])\n",
    "                            styles[identifier] = {'size': s['size'], 'font': s['font']}\n",
    "\n",
    "                        font_counts[identifier] = font_counts.get(identifier, 0) + 1  # count the fonts usage\n",
    "\n",
    "    font_counts = sorted(font_counts.items(), key=itemgetter(1), reverse=True)\n",
    "\n",
    "    if len(font_counts) < 1:\n",
    "        raise ValueError(\"Zero discriminating fonts found!\")\n",
    "\n",
    "    return font_counts, styles"
   ]
  },
  {
   "cell_type": "code",
   "execution_count": 3,
   "metadata": {},
   "outputs": [],
   "source": [
    "def font_tags(font_counts, styles):\n",
    "    \"\"\"Returns dictionary with font sizes as keys and tags as value.\n",
    "    :param font_counts: (font_size, count) for all fonts occuring in document\n",
    "    :type font_counts: list\n",
    "    :param styles: all styles found in the document\n",
    "    :type styles: dict\n",
    "    :rtype: dict\n",
    "    :return: all element tags based on font-sizes\n",
    "    \"\"\"\n",
    "    p_style = styles[font_counts[0][0]]  # get style for most used font by count (paragraph)\n",
    "    p_size = p_style['size']  # get the paragraph's size\n",
    "\n",
    "    # sorting the font sizes high to low, so that we can append the right integer to each tag\n",
    "    font_sizes = []\n",
    "    for (font_size, count) in font_counts:\n",
    "        font_sizes.append(float(font_size))\n",
    "    font_sizes.sort(reverse=True)\n",
    "\n",
    "    # aggregating the tags for each font size\n",
    "    idx = 0\n",
    "    size_tag = {}\n",
    "    for size in font_sizes:\n",
    "        idx += 1\n",
    "        if size == p_size:\n",
    "            idx = 0\n",
    "            size_tag[size] = '<p>'\n",
    "        if size > p_size:\n",
    "            size_tag[size] = '<h{0}>'.format(idx)\n",
    "        elif size < p_size:\n",
    "            size_tag[size] = '<s{0}>'.format(idx)\n",
    "\n",
    "    return size_tag"
   ]
  },
  {
   "cell_type": "code",
   "execution_count": 4,
   "metadata": {},
   "outputs": [],
   "source": [
    "def headers_para(doc, size_tag):\n",
    "    \"\"\"Scrapes headers & paragraphs from PDF and return texts with element tags.\n",
    "    :param doc: PDF document to iterate through\n",
    "    :type doc: <class 'fitz.fitz.Document'>\n",
    "    :param size_tag: textual element tags for each size\n",
    "    :type size_tag: dict\n",
    "    :rtype: list\n",
    "    :return: texts with pre-prended element tags\n",
    "    \"\"\"\n",
    "    block_texts = {}\n",
    "    header_para = []  # list with headers and paragraphs\n",
    "    first = True  # boolean operator for first header\n",
    "    previous_s = {}  # previous span\n",
    "\n",
    "    for page in doc:\n",
    "        blocks = page.getText(\"dict\")[\"blocks\"]\n",
    "        for b in blocks:  # iterate through the text blocks\n",
    "            if b['type'] == 0:  # this block contains text\n",
    "\n",
    "                # REMEMBER: multiple fonts and sizes are possible IN one block\n",
    "\n",
    "                block_string = \"\"  # text found in block\n",
    "                for l in b[\"lines\"]:  # iterate through the text lines\n",
    "                    for s in l[\"spans\"]:  # iterate through the text spans\n",
    "                        if s['text'].strip():  # removing whitespaces:\n",
    "                            if first:\n",
    "                                previous_s = s\n",
    "                                first = False\n",
    "                                block_string = size_tag[s['size']] + s['text']\n",
    "                                if size_tag[s['size']] in block_texts.keys():\n",
    "                                    #print (s['text'])\n",
    "                                    block_texts[size_tag[s['size']]] += s['text']\n",
    "                                else:\n",
    "                                    block_texts[size_tag[s['size']]] = s['text']\n",
    "                            else:\n",
    "                                if s['size'] == previous_s['size']:\n",
    "\n",
    "                                    if block_string and all((c == \"|\") for c in block_string):\n",
    "                                        # block_string only contains pipes\n",
    "                                        block_string = size_tag[s['size']] + s['text']\n",
    "                                    if block_string == \"\":\n",
    "                                        # new block has started, so append size tag\n",
    "                                        block_string = size_tag[s['size']] + s['text']\n",
    "                                        if size_tag[s['size']] in block_texts.keys():\n",
    "                                            #print (s['text'])\n",
    "                                            block_texts[size_tag[s['size']]] += s['text']\n",
    "                                        else:\n",
    "                                            block_texts[size_tag[s['size']]] = s['text']\n",
    "                                            \n",
    "                                    else:  # in the same block, so concatenate strings\n",
    "                                        block_string += \" \" + s['text']\n",
    "\n",
    "                                else:\n",
    "                                    header_para.append(block_string)\n",
    "                                    block_string = size_tag[s['size']] + s['text']\n",
    "                                    if size_tag[s['size']] in block_texts.keys():\n",
    "                                        #print (s['text'])\n",
    "                                        block_texts[size_tag[s['size']]] += '\\n'+s['text']\n",
    "                                    else:\n",
    "                                        block_texts[size_tag[s['size']]] = s['text']\n",
    "\n",
    "                                previous_s = s\n",
    "\n",
    "                    # new block started, indicating with a pipe\n",
    "                    block_string += \"|\"\n",
    "\n",
    "                header_para.append(block_string)\n",
    "\n",
    "    return header_para, block_texts"
   ]
  },
  {
   "cell_type": "code",
   "execution_count": 5,
   "metadata": {},
   "outputs": [],
   "source": [
    "document = 'aditya bhartia (copy).pdf'\n",
    "doc = fitz.open(document)\n",
    "\n",
    "font_counts, styles = fonts(doc, granularity=False)\n",
    "\n",
    "size_tag = font_tags(font_counts, styles)\n",
    "\n",
    "elements, block_texts = headers_para(doc, size_tag)"
   ]
  },
  {
   "cell_type": "code",
   "execution_count": 6,
   "metadata": {},
   "outputs": [
    {
     "name": "stdout",
     "output_type": "stream",
     "text": [
      "PROFESSIONAL EXPERIENCEEquity research analyst\n",
      "Held joint responsibility with the team leader for analysing  the UK  Support Services sector, which \n",
      "Involved in \n",
      "Prepared  \n",
      "Authored five \n",
      "Involved with  Irevna Research Services (subsidiary of S&P), ChennaiOffshore  \n",
      "Built  \n",
      "Prepared \n",
      "Authored First Call notesAPPRENTICEP. K, Narula & Co, New Delhi \n",
      "Conducted internal and statutory audits in different sectors.\n",
      "Finalized accounts, prepared balance sheets, and filed returns of income.EDUCATION\n",
      "Associate Chartered Accountant \n",
      " Cleared CA Final examinations with 21\n",
      " rank on All India Basis.\n",
      " Cleared CA Foundation examination with 19\n",
      " rank on All India Basis.\n",
      "Bachelor of Commerce, Shri Ram College of Commerce, Delhi\n",
      " Secured 2\n",
      " rank in Delhi University in B. Com (Hons.) 1\n",
      " year.\n",
      " Awarded UFJ Foundations and SRCC Alumni scholarships for academic excellence. \n",
      "CBSE(Class XII) Mahavir Senior Model School, Delhi\n",
      " Secured 1\n",
      " rank in R. S. Asiads 2000 for Accountancy in Class XI.\n",
      "CBSE (Class X) Mahavir Senior Model School, DelhiACTIVITIES/PERSONAL\n",
      "Appointed Head Boy of the school.\n"
     ]
    }
   ],
   "source": [
    "#try to find the headers in document depending on the text font and size\n",
    "print (block_texts['<p>'])"
   ]
  },
  {
   "cell_type": "code",
   "execution_count": 7,
   "metadata": {},
   "outputs": [
    {
     "name": "stdout",
     "output_type": "stream",
     "text": [
      "['<h1>ADITYA BHARTIA|', '<s1>G-3, Tandon Apartment, Charat Singh Colony, Andheri (E), Mumbai| Ph: +91 9820929220, E-mail: adityabhartia@yahoo.com|', '', '<p>PROFESSIONAL EXPERIENCE| Noble Group/Clear Capital, Mumbai| June 2007 – Till date|', '<p>Equity research analyst  at Noble Group, a UK-based investment bank specializing in small and mid-cap | equities. Noble’s clients include some of the UK’s top institutional investors such as Scottish Widows, Fidelity, | Gartmore, Aberforth, and L&G.|', '', '<s1>\\uf0a7|', '<p>Held joint responsibility with the team leader for analysing  the UK  Support Services sector, which | encompasses a  wide array of business models  like equipment rental, accident management, social housing | and engineering consultancy. |', '', '<s1>\\uf0a7|', '<p>Involved in  all stages of equity research , starting with company meetings and developing sophisticated | earning models and ending with writing research notes and servicing clients through roadshows, meetings, | and ad-hoc projects.|', '', '<s1>\\uf0a7|', '<p>Prepared   thematic industry notes  on the UK rental industry and the engineering consultants market, | highlighting key growth drivers, and identifying top sector picks.|', '', '<s1>\\uf0a7|', '<p>Authored five  initiation reports , with name duly accorded on their front page.|', '', '<s1>\\uf0a7|', '<p>Involved with   forensic examination  of financial statements of accident management and vehicle rental | companies, with particular emphasis on their operating and financial leverage.|', '<p>Irevna Research Services (subsidiary of S&P), Chennai| Oct 2005 – May 2007|', '<p>Offshore   equity  research  associate  responsible  for  fundamental  research  of  European  Household  and | Personal Care sector for a bulge bracket investment-banking firm  |', '', '<s1>\\uf0a7|', '<p>Built   financial  models  for  companies.  Responsible  for  populating  historical  financial  data,  making | accounting adjustments, ratio and trend analysis, and preparing forecasts of revenues and profitability.|', '', '<s1>\\uf0a7|', '<p>Prepared  Industry presentations  for the companies under coverage universe.|', '', '<s1>\\uf0a7|', '<p>Authored First Call notes  for companies under coverage post quarterly earnings and key catalyst events.|', '<p>APPRENTICE| Lochan & Co, New Delhi|             Apr 2003 – Aug 2005|', '<p>P. K, Narula & Co, New Delhi | Aug 2002 - Mar 2003|', '', '<s1>\\uf0a7|', '<p>Conducted internal and statutory audits in different sectors.|', '', '<s1>\\uf0a7|', '<p>Finalized accounts, prepared balance sheets, and filed returns of income.|', '<p>EDUCATION|', '', '<s1>\\uf0a7|', '<p>Associate Chartered Accountant ||      May 2005|', '', '<s1>-', '<p> Cleared CA Final examinations with 21', '<s2>st', '<p> rank on All India Basis.|', '<s1>-', '<p> Cleared CA Foundation examination with 19', '<s2>th', '<p> rank on All India Basis.|', '', '<s1>\\uf0a7|', '<p>Bachelor of Commerce, Shri Ram College of Commerce, Delhi  – (76%)      | 2004|', '', '<s1>-', '<p> Secured 2', '<s2>nd', '<p> rank in Delhi University in B. Com (Hons.) 1', '<s2>st', '<p> year.|', '<s1>-', '<p> Awarded UFJ Foundations and SRCC Alumni scholarships for academic excellence. |', '', '<s1>\\uf0a7|', '<p>CBSE(Class XII) Mahavir Senior Model School, Delhi  – (92%)                                                           2001| -  Topped the school in Class XII.|', '<s1>-', '<p> Secured 1', '<s2>st', '<p> rank in R. S. Asiads 2000 for Accountancy in Class XI.|', '', '<s1>\\uf0a7|', '<p>CBSE (Class X) Mahavir Senior Model School, Delhi  – (89%)|                           1999|', '<p>ACTIVITIES/PERSONAL|', '', '<s1>\\uf0a7|', '<p>Appointed Head Boy of the school.|', '<p>\\uf0a7| Represented Delhi State in XXXXII National School Games (Under 14 All India Cricket Tournament) held | in Guwahati in 1996.|']\n"
     ]
    }
   ],
   "source": [
    "print (elements)"
   ]
  },
  {
   "cell_type": "code",
   "execution_count": null,
   "metadata": {},
   "outputs": [],
   "source": []
  }
 ],
 "metadata": {
  "kernelspec": {
   "display_name": "Python 3",
   "language": "python",
   "name": "python3"
  },
  "language_info": {
   "codemirror_mode": {
    "name": "ipython",
    "version": 3
   },
   "file_extension": ".py",
   "mimetype": "text/x-python",
   "name": "python",
   "nbconvert_exporter": "python",
   "pygments_lexer": "ipython3",
   "version": "3.7.6"
  }
 },
 "nbformat": 4,
 "nbformat_minor": 4
}
