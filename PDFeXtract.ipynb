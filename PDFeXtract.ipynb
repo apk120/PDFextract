{
 "cells": [
  {
   "cell_type": "code",
   "execution_count": 1,
   "metadata": {},
   "outputs": [],
   "source": [
    "import pandas as pd\n",
    "import PyPDF2\n",
    "from PIL import Image \n",
    "import pytesseract\n",
    "from pdf2image import convert_from_path\n",
    "from nltk.tokenize import word_tokenize\n",
    "from nltk.corpus import stopwords\n",
    "import re"
   ]
  },
  {
   "cell_type": "code",
   "execution_count": 2,
   "metadata": {},
   "outputs": [],
   "source": [
    "def textPyPDF2(filename, count):\n",
    "    \n",
    "    pdfFileObj = open(filename,'rb')\n",
    "    pdfReader = PyPDF2.PdfFileReader(pdfFileObj)#The pdfReader variable is a readable object that will be parsed\n",
    "    num_pages = pdfReader.numPages\n",
    "    \n",
    "                          #The while loop will read each page\n",
    "    pageObj = pdfReader.getPage(count)\n",
    "    text = pageObj.extractText()\n",
    "        \n",
    "    return text.lower()"
   ]
  },
  {
   "cell_type": "code",
   "execution_count": 3,
   "metadata": {},
   "outputs": [],
   "source": [
    "def textPytesseract(filename, count):\n",
    "    \n",
    "    #convert PDF to images\n",
    "    # Store the page of the PDF in a variable \n",
    "    page = convert_from_path(filename, 500, first_page=count, last_page=count) \n",
    "    \n",
    "    # Declaring filename for each page of PDF as JPG \n",
    "    # For each page, filename will be: \n",
    "    # PDF page n -> page.jpg \n",
    "    filename = \"page\"+\".jpg\"\n",
    "\n",
    "    # Save the image of the page in system \n",
    "    page[0].save(filename, 'JPEG') \n",
    "    \n",
    "    #Recognizing text from the images using OCR\n",
    "    # Recognize the text as string in image using pytesseract \n",
    "    text = str(((pytesseract.image_to_string(Image.open(filename))))) \n",
    "\n",
    "    # The recognized text is stored in variable text \n",
    "    # Any string processing may be applied on text \n",
    "    # Here, basic formatting has been done: \n",
    "    # In many PDFs, at line ending, if a word can't \n",
    "    # be written fully, a 'hyphen' is added. \n",
    "    # The rest of the word is written in the next line \n",
    "    # To remove this, we replace every '-\\n' to ''. \n",
    "    text = text.replace('-\\n', '')\n",
    "    \n",
    "    return text.lower()"
   ]
  },
  {
   "cell_type": "code",
   "execution_count": 4,
   "metadata": {},
   "outputs": [],
   "source": [
    "def listkeywords(text):\n",
    "    \n",
    "    tokens = word_tokenize(text)\n",
    "    punctuations = ['(',')',';',':','[',']',',','.','-','/']\n",
    "    stop_words = stopwords.words('english')\n",
    "    keywords = [word for word in tokens if not word in stop_words and not word in punctuations]\n",
    "    \n",
    "    return keywords"
   ]
  },
  {
   "cell_type": "code",
   "execution_count": 5,
   "metadata": {},
   "outputs": [],
   "source": [
    "def count_keyword_matches(text, word):\n",
    "    \n",
    "    text = text.lower()\n",
    "    word = word.lower()\n",
    "    match = re.findall(word, text)\n",
    "    \n",
    "    return len(match)"
   ]
  },
  {
   "cell_type": "code",
   "execution_count": 6,
   "metadata": {},
   "outputs": [],
   "source": [
    "def rankpages(filename, func, words):\n",
    "    \n",
    "    pdfFileObj = open(filename,'rb')\n",
    "    pdfReader = PyPDF2.PdfFileReader(pdfFileObj)#The pdfReader variable is a readable object that will be parsed\n",
    "    num_pages = pdfReader.numPages\n",
    "    \n",
    "    df = pd.DataFrame([i for i in range(1, num_pages+1)],columns=['Page'])\n",
    "    \n",
    "    for word in words:\n",
    "        count = 0\n",
    "        word_count = []\n",
    "        while count < num_pages:  #The while loop will read each page\n",
    "\n",
    "            if func == \"PyPDF2\":\n",
    "                text = textPyPDF2(filename, count)\n",
    "            if func == \"OCR\":\n",
    "                text = textPytesseract(filename, count)\n",
    "\n",
    "            keywords = listkeywords(text)\n",
    "            \n",
    "            #word_count.append(keywords.count(word))\n",
    "            word_count.append(count_keyword_matches(text, word))\n",
    "            \n",
    "            count +=1\n",
    "        df[word] = word_count\n",
    "            \n",
    "    return df"
   ]
  },
  {
   "cell_type": "code",
   "execution_count": 7,
   "metadata": {},
   "outputs": [
    {
     "name": "stderr",
     "output_type": "stream",
     "text": [
      "PdfReadWarning: Xref table not zero-indexed. ID numbers for objects will be corrected. [pdf.py:1736]\n"
     ]
    }
   ],
   "source": [
    "df = rankpages(\"Lesson-42.pdf\", \"PyPDF2\", [\"embedded\", \"objective\"])"
   ]
  },
  {
   "cell_type": "code",
   "execution_count": 8,
   "metadata": {},
   "outputs": [
    {
     "name": "stdout",
     "output_type": "stream",
     "text": [
      "    Page  embedded  objective  total_count\n",
      "4      5         0          0            0\n",
      "5      6         0          0            0\n",
      "7      8         0          0            0\n",
      "8      9         0          0            0\n",
      "9     10         0          0            0\n",
      "10    11         0          0            0\n",
      "11    12         0          0            0\n",
      "0      1         1          0            1\n",
      "1      2         1          0            1\n",
      "6      7         2          0            2\n",
      "3      4         7          0            7\n",
      "2      3         9          1           10\n"
     ]
    }
   ],
   "source": [
    "total = df.iloc[:, 1:].sum(axis=1)\n",
    "df[\"total_count\"] = total\n",
    "print (df.sort_values(\"total_count\"))"
   ]
  },
  {
   "cell_type": "code",
   "execution_count": 9,
   "metadata": {},
   "outputs": [
    {
     "name": "stderr",
     "output_type": "stream",
     "text": [
      "PdfReadWarning: Xref table not zero-indexed. ID numbers for objects will be corrected. [pdf.py:1736]\n"
     ]
    },
    {
     "name": "stdout",
     "output_type": "stream",
     "text": [
      "695 ms ± 34.2 ms per loop (mean ± std. dev. of 7 runs, 1 loop each)\n"
     ]
    }
   ],
   "source": [
    "%%timeit\n",
    "df = rankpages(\"Lesson-42.pdf\", \"PyPDF2\", [\"embedded\", \"objective\"])"
   ]
  },
  {
   "cell_type": "code",
   "execution_count": 10,
   "metadata": {},
   "outputs": [
    {
     "name": "stdout",
     "output_type": "stream",
     "text": [
      "CPU times: user 25.7 s, sys: 3.82 s, total: 29.5 s\n",
      "Wall time: 2min 37s\n"
     ]
    }
   ],
   "source": [
    "%%time\n",
    "df = rankpages(\"Lesson-42.pdf\", \"OCR\", [\"embedded\", \"objective\"])"
   ]
  },
  {
   "cell_type": "code",
   "execution_count": 11,
   "metadata": {},
   "outputs": [
    {
     "name": "stdout",
     "output_type": "stream",
     "text": [
      "\n"
     ]
    }
   ],
   "source": [
    "#text not extracted from a train ticket using pypdf2 but pytesseract does\n",
    "text = textPyPDF2(\"kupdf.net_irctc-ticket-format.pdf\", 0)\n",
    "print (text)"
   ]
  },
  {
   "cell_type": "code",
   "execution_count": 12,
   "metadata": {},
   "outputs": [
    {
     "name": "stdout",
     "output_type": "stream",
     "text": [
      "irctcs e-ticketing service\n",
      "\n",
      "electronic reservation sli personal user\n",
      "\n",
      " \n",
      "\n",
      ". this ticket will only be valid with an id proof in original. if found travelling without id proof, passenger will\n",
      "be treated as without ticket and charged as per extant railway rules.\n",
      "\n",
      ". at least one passenger should travel with his/her id card in original which is indicated on the ers/vrm. in\n",
      "case he/she is not travelling, all other passenger(s) booked on that ticket, if found travelling in train will be\n",
      "treated as travelling without ticket and charged accordingly.\n",
      "\n",
      ". valid ids to be presented during train journey by one of the passenger booked on an e-ticket :- voter\n",
      "identity card / passport / pan card / driving license/ photo id card issued by central / state govt /\n",
      "public sector undertakings of state / central government ,district administrations , muncipal bodies and\n",
      "panchayat administrations which are having serial number/ student identity card with photograph issued\n",
      "by recognized school or college for their students / nationalized bank passbook with photograph /credit\n",
      "cards issued by banks with laminated photograph/unique identification card “aadhaar”.\n",
      "\n",
      ". general rules/ information for e-ticket passenger have to be studied by the customer for cancellation &\n",
      "refund.\n",
      "\n",
      " \n",
      "\n",
      "pnr no: 4104233927 train no. & name: 12621/tamil nadu exp quota: tatkal ck\n",
      "\n",
      "transaction id: 100000154835913 he’s? 8‘ t'me of b°°ki“9: 16'jan'2015 10:04:11 class: sleeper class (sl)\n",
      "\n",
      "from:chennal central mas date of journe :17-jan-2015 to:agra canti' agc\n",
      "boardino at:warangal wl date of boardino:18—jan-2015 scheduled departure:18-jan-2015 07:05 *\n",
      "resv. upto:agra cantt(agc) scheduled arrival:19-jan-2015 03:50 * adult:1 child:0\n",
      "\n",
      "passenger mobile no 9591217979 — distance 1999 km\n",
      "—\n",
      "\n",
      "—\n",
      "passenger address: gummadidala village, medak dis~jinnara mandal, hyderabad, andhra pradesh — 502313\n",
      "—\n",
      "\n",
      "fare detai ls :\n",
      "\n",
      "ticket fare ** ? 920.0 rupees nine hundred and twenty only\n",
      "irctc service charge (incl. of service tax) # ? 11.24 rupees eleven and two four paisa only\n",
      "total fare (all inclusive) ? 931.24 rupees nine hundred and thirty one and two four paisa only\n",
      "\n",
      "# service charges per e-ticket irrespective of number of passengers on the ticket.\n",
      "\n",
      " \n",
      "\n",
      "passenger detai ls :\n",
      "\n",
      "mmmm booking status current status id card type id card number\n",
      "8 raju cnf/s5/49/lower cnf/s5/49/lower voter ld—card trk0349027\n",
      "\n",
      "this ticket is booked on a rsonal user id and cannot be sold b an a ent. if bou ht from an a ent b an individual it is at his/her own risk.\n",
      "\n",
      " \n",
      "\n",
      "ticket printing time: 16-jan-2015 10:04:13 hrs\n",
      "important :\n",
      "\n",
      ". for details, rules and terms & conditions of e—ticketing services, please visit www.irctc.co.in.\n",
      "\n",
      "0 *new time table will be effective from 01—09—2014. departure time and arrival time printed on this ers/vrm is liable to change. please check\n",
      "correct departure and arrival from railway station enquiry, dial 139 or sms 'rail' to 139.‘\n",
      "\n",
      ". there is amendments in certain provisions of refund rule.refer, amended refund rules w.e.f 01-07-2013.\n",
      "\n",
      ". the accommodation booked is not transferable and is valid only if the id card printed above is presented during the journey. the ers/vrm along\n",
      "with printed id proof in original would be verified by ti'e with the name and pnr on the chart. if the passenger fail to produce/display ers/vrm due\n",
      "to any eventuality (loss, damaged mobile/laptop etc.) but has the prescribed original proof of identity, a penalty of rs.50/- per ticket as applicable\n",
      "to such cases will be levied. the ticket checking staff on board/off board will give excess fare ticket for the same.\n",
      "\n",
      ". e-ticket cancellations are permitted through www.irctc.co.in by the user.\n",
      "\n",
      ". pnrs having fully waitlisted status will be dropped and the names of the passengers will not appear on the chart. they are not allowed to board the\n",
      "train. however the namesof partially waitlisted/confirmed and rac will appear in the chart.\n",
      "\n",
      ". obtain certificate from the tl'e /conductor in case of partially waitlisted e-ticket less no. of passengers travelled a.c.fa|lure, travel\n",
      "in lower class. this original certificate must be sent to ggm (it), irctc, internet ticketing centre, irca building, state entry road, new\n",
      "delhi-110055 after filing on-line refund request for claiming refund.\n",
      "\n",
      ". in case of partial confirmed/rac/wait listed ticket,tdr should be filed online of all the those passengers who did not travel for processing of refund\n",
      "in prescribed time as per railway refund rules. the refund will be processed by the concerned zonal railways as per railway refund rules.\n",
      "\n",
      ". in premium special train cancellation is not allowed.however, ticket can be cancelled and full refund is admissible if the train is cancelled by indian\n",
      "railways.\n",
      "\n",
      ". passengers are advised not to carry inflammable/dangerous/explosive/articles as part of their luggage and also to desist from smoking in the\n",
      "trains.\n",
      "\n",
      ". contact us on: - 24*7 hrs customer support at 011-23340000 , chennai customer care 044 — 25300000 or mail to: care@irctc.co.in.\n",
      ". for any suggestions/complaints related to catering services,contact toll free no. 1800-111-321 (07.00 hrs to 22.00 hrs)\n",
      ". railway security helpline no.1322\n"
     ]
    }
   ],
   "source": [
    "text = textPytesseract(\"kupdf.net_irctc-ticket-format.pdf\", 0)\n",
    "print (text)"
   ]
  },
  {
   "cell_type": "code",
   "execution_count": null,
   "metadata": {},
   "outputs": [],
   "source": []
  }
 ],
 "metadata": {
  "kernelspec": {
   "display_name": "Python 3",
   "language": "python",
   "name": "python3"
  },
  "language_info": {
   "codemirror_mode": {
    "name": "ipython",
    "version": 3
   },
   "file_extension": ".py",
   "mimetype": "text/x-python",
   "name": "python",
   "nbconvert_exporter": "python",
   "pygments_lexer": "ipython3",
   "version": "3.7.6"
  }
 },
 "nbformat": 4,
 "nbformat_minor": 4
}
