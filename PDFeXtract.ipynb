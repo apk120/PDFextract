{
 "cells": [
  {
   "cell_type": "code",
   "execution_count": 1,
   "metadata": {},
   "outputs": [],
   "source": [
    "import pandas as pd\n",
    "import PyPDF2\n",
    "from PIL import Image \n",
    "import pytesseract\n",
    "from pdf2image import convert_from_path\n",
    "from nltk.tokenize import word_tokenize\n",
    "from nltk.corpus import stopwords\n",
    "import re"
   ]
  },
  {
   "cell_type": "code",
   "execution_count": 2,
   "metadata": {},
   "outputs": [],
   "source": [
    "def textPyPDF2(filename, count):\n",
    "    \n",
    "    pdfFileObj = open(filename,'rb')\n",
    "    pdfReader = PyPDF2.PdfFileReader(pdfFileObj)#The pdfReader variable is a readable object that will be parsed\n",
    "    num_pages = pdfReader.numPages\n",
    "    \n",
    "                          #The while loop will read each page\n",
    "    pageObj = pdfReader.getPage(count)\n",
    "    text = pageObj.extractText()\n",
    "        \n",
    "    return text.lower()"
   ]
  },
  {
   "cell_type": "code",
   "execution_count": 3,
   "metadata": {},
   "outputs": [],
   "source": [
    "def textPytesseract(filename, count):\n",
    "    \n",
    "    #convert PDF to images\n",
    "    # Store the page of the PDF in a variable \n",
    "    page = convert_from_path(filename, 500, first_page=count, last_page=count) \n",
    "    \n",
    "    # Declaring filename for each page of PDF as JPG \n",
    "    # For each page, filename will be: \n",
    "    # PDF page n -> page.jpg \n",
    "    filename = \"page\"+\".jpg\"\n",
    "\n",
    "    # Save the image of the page in system \n",
    "    page[0].save(filename, 'JPEG') \n",
    "    \n",
    "    #Recognizing text from the images using OCR\n",
    "    # Recognize the text as string in image using pytesseract \n",
    "    text = str(((pytesseract.image_to_string(Image.open(filename))))) \n",
    "\n",
    "    # The recognized text is stored in variable text \n",
    "    # Any string processing may be applied on text \n",
    "    # Here, basic formatting has been done: \n",
    "    # In many PDFs, at line ending, if a word can't \n",
    "    # be written fully, a 'hyphen' is added. \n",
    "    # The rest of the word is written in the next line \n",
    "    # To remove this, we replace every '-\\n' to ''. \n",
    "    text = text.replace('-\\n', '')\n",
    "    \n",
    "    return text.lower()"
   ]
  },
  {
   "cell_type": "code",
   "execution_count": 4,
   "metadata": {},
   "outputs": [],
   "source": [
    "def listkeywords(text):\n",
    "    \n",
    "    tokens = word_tokenize(text)\n",
    "    punctuations = ['(',')',';',':','[',']',',','.','-','/']\n",
    "    stop_words = stopwords.words('english')\n",
    "    keywords = [word for word in tokens if not word in stop_words and not word in punctuations]\n",
    "    \n",
    "    return keywords"
   ]
  },
  {
   "cell_type": "code",
   "execution_count": 5,
   "metadata": {},
   "outputs": [],
   "source": [
    "def count_keyword_matches(text, word):\n",
    "    \n",
    "    text = text.lower()\n",
    "    word = word.lower()\n",
    "    match = re.findall(word, text)\n",
    "    \n",
    "    return len(match)"
   ]
  },
  {
   "cell_type": "code",
   "execution_count": 6,
   "metadata": {},
   "outputs": [],
   "source": [
    "def rankpages(filename, func, words):\n",
    "    \n",
    "    pdfFileObj = open(filename,'rb')\n",
    "    pdfReader = PyPDF2.PdfFileReader(pdfFileObj)#The pdfReader variable is a readable object that will be parsed\n",
    "    num_pages = pdfReader.numPages\n",
    "    \n",
    "    df = pd.DataFrame([i for i in range(1, num_pages+1)],columns=['Page'])\n",
    "    \n",
    "    for word in words:\n",
    "        count = 0\n",
    "        word_count = []\n",
    "        while count < num_pages:  #The while loop will read each page\n",
    "\n",
    "            if func == \"PyPDF2\":\n",
    "                text = textPyPDF2(filename, count)\n",
    "            if func == \"OCR\":\n",
    "                text = textPytesseract(filename, count)\n",
    "\n",
    "            keywords = listkeywords(text)\n",
    "            \n",
    "            #word_count.append(keywords.count(word))\n",
    "            word_count.append(count_keyword_matches(text, word))\n",
    "            \n",
    "            count +=1\n",
    "        df[word] = word_count\n",
    "            \n",
    "    return df"
   ]
  },
  {
   "cell_type": "code",
   "execution_count": 7,
   "metadata": {},
   "outputs": [
    {
     "name": "stderr",
     "output_type": "stream",
     "text": [
      "PdfReadWarning: Xref table not zero-indexed. ID numbers for objects will be corrected. [pdf.py:1736]\n"
     ]
    }
   ],
   "source": [
    "df = rankpages(\"Lesson-42.pdf\", \"PyPDF2\", [\"embedded\", \"objective\"])"
   ]
  },
  {
   "cell_type": "code",
   "execution_count": 8,
   "metadata": {},
   "outputs": [
    {
     "name": "stdout",
     "output_type": "stream",
     "text": [
      "    Page  embedded  objective  total_count\n",
      "4      5         0          0            0\n",
      "5      6         0          0            0\n",
      "7      8         0          0            0\n",
      "8      9         0          0            0\n",
      "9     10         0          0            0\n",
      "10    11         0          0            0\n",
      "11    12         0          0            0\n",
      "0      1         1          0            1\n",
      "1      2         1          0            1\n",
      "6      7         2          0            2\n",
      "3      4         7          0            7\n",
      "2      3         9          1           10\n"
     ]
    }
   ],
   "source": [
    "total = df.iloc[:, 1:].sum(axis=1)\n",
    "df[\"total_count\"] = total\n",
    "print (df.sort_values(\"total_count\"))"
   ]
  },
  {
   "cell_type": "code",
   "execution_count": 9,
   "metadata": {},
   "outputs": [
    {
     "name": "stderr",
     "output_type": "stream",
     "text": [
      "PdfReadWarning: Xref table not zero-indexed. ID numbers for objects will be corrected. [pdf.py:1736]\n"
     ]
    },
    {
     "name": "stdout",
     "output_type": "stream",
     "text": [
      "695 ms ± 34.2 ms per loop (mean ± std. dev. of 7 runs, 1 loop each)\n"
     ]
    }
   ],
   "source": [
    "%%timeit\n",
    "df = rankpages(\"Lesson-42.pdf\", \"PyPDF2\", [\"embedded\", \"objective\"])"
   ]
  },
  {
   "cell_type": "code",
   "execution_count": 10,
   "metadata": {},
   "outputs": [
    {
     "name": "stdout",
     "output_type": "stream",
     "text": [
      "CPU times: user 25.7 s, sys: 3.82 s, total: 29.5 s\n",
      "Wall time: 2min 37s\n"
     ]
    }
   ],
   "source": [
    "%%time\n",
    "df = rankpages(\"Lesson-42.pdf\", \"OCR\", [\"embedded\", \"objective\"])"
   ]
  },
  {
   "cell_type": "code",
   "execution_count": 11,
   "metadata": {},
   "outputs": [
    {
     "name": "stdout",
     "output_type": "stream",
     "text": [
      "\n"
     ]
    }
   ],
   "source": [
    "#text not extracted from a train ticket using pypdf2 but pytesseract does\n",
    "text = textPyPDF2(\"kupdf.net_irctc-ticket-format.pdf\", 0)\n",
    "print (text)"
   ]
  },
  {
   "cell_type": "code",
   "execution_count": null,
   "metadata": {},
   "outputs": [],
   "source": [
    "text = textPytesseract(\"kupdf.net_irctc-ticket-format.pdf\", 0)\n",
    "print (text)"
   ]
  },
  {
   "cell_type": "code",
   "execution_count": null,
   "metadata": {},
   "outputs": [],
   "source": []
  }
 ],
 "metadata": {
  "kernelspec": {
   "display_name": "Python 3",
   "language": "python",
   "name": "python3"
  },
  "language_info": {
   "codemirror_mode": {
    "name": "ipython",
    "version": 3
   },
   "file_extension": ".py",
   "mimetype": "text/x-python",
   "name": "python",
   "nbconvert_exporter": "python",
   "pygments_lexer": "ipython3",
   "version": "3.7.6"
  }
 },
 "nbformat": 4,
 "nbformat_minor": 4
}
